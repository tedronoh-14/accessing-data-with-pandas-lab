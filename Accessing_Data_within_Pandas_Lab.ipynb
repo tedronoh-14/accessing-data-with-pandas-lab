{
 "cells": [
  {
   "cell_type": "markdown",
   "metadata": {},
   "source": [
    "# Accessing Data within Pandas - Lab"
   ]
  },
  {
   "cell_type": "markdown",
   "metadata": {},
   "source": [
    "## Introduction\n",
    "\n",
    "In this lab, we'll look at a dataset which contains information on World Cup matches. Let's use the pandas commands learned in the previous lesson to learn more about our data!"
   ]
  },
  {
   "cell_type": "markdown",
   "metadata": {},
   "source": [
    "## Objectives\n",
    "\n",
    "You will be able to: \n",
    "\n",
    "- Use pandas methods and attributes to access information about a dataset \n",
    "- Index pandas dataframes with .loc, .iloc, and column names \n",
    "- Use a boolean mask to index pandas series and dataframes"
   ]
  },
  {
   "cell_type": "markdown",
   "metadata": {},
   "source": [
    "## Load the Data"
   ]
  },
  {
   "cell_type": "markdown",
   "metadata": {},
   "source": [
    "Load the file `'WorldCupMatches.csv'` as a DataFrame in pandas."
   ]
  },
  {
   "cell_type": "code",
   "execution_count": null,
   "metadata": {},
   "outputs": [],
   "source": [
    "# Replace None with appropriate code\n",
    "\n",
    "# Import pandas using the standard alias\n",
    "\n",
    "import pandas as pd\n",
    "import matplotlib.pyplot as plt\n",
    "import seaborn as sns\n",
    "import numpy as np\n",
    "import csv\n",
    "\n",
    "\n",
    "# Load 'WorldCupMatches.csv' as a DataFrame\n",
    "df = pd.read_csv('WorldCupMatches.csv', header=0, index_col=0, sep=',')\n",
    "\n"
   ]
  },
  {
   "cell_type": "markdown",
   "metadata": {},
   "source": [
    "## Common Methods and Attributes"
   ]
  },
  {
   "cell_type": "markdown",
   "metadata": {},
   "source": [
    "Use the correct method to display the **first 7 rows** of the dataset."
   ]
  },
  {
   "cell_type": "code",
   "execution_count": null,
   "metadata": {},
   "outputs": [],
   "source": [
    "# Preview first 7 rows\n",
    "df.head(7)"
   ]
  },
  {
   "cell_type": "markdown",
   "metadata": {},
   "source": [
    "Display the **last 3 rows** of the dataset."
   ]
  },
  {
   "cell_type": "code",
   "execution_count": null,
   "metadata": {},
   "outputs": [],
   "source": [
    "# displaying the last 3 rows\n",
    "df.tail(3)"
   ]
  },
  {
   "cell_type": "markdown",
   "metadata": {},
   "source": [
    "Get a concise summary of the data using `.info()`. "
   ]
  },
  {
   "cell_type": "code",
   "execution_count": null,
   "metadata": {},
   "outputs": [],
   "source": [
    "# getting concise info\n",
    "df.info()"
   ]
  },
  {
   "cell_type": "markdown",
   "metadata": {},
   "source": [
    "Obtain a tuple representing the **number of rows and number of columns**."
   ]
  },
  {
   "cell_type": "code",
   "execution_count": null,
   "metadata": {},
   "outputs": [],
   "source": [
    "# shape of the dataframe\n",
    "df.shape\n"
   ]
  },
  {
   "cell_type": "code",
   "execution_count": null,
   "metadata": {},
   "outputs": [],
   "source": [
    "print(f\" Rows:{df.shape[0]}, Cols:{df.shape[1]}\")"
   ]
  },
  {
   "cell_type": "markdown",
   "metadata": {},
   "source": [
    "Use the appropriate attribute to get the **column names**."
   ]
  },
  {
   "cell_type": "code",
   "execution_count": null,
   "metadata": {},
   "outputs": [],
   "source": [
    "# column names\n",
    "df.columns"
   ]
  },
  {
   "cell_type": "markdown",
   "metadata": {},
   "source": [
    "## Selecting DataFrame Information"
   ]
  },
  {
   "cell_type": "code",
   "execution_count": null,
   "metadata": {},
   "outputs": [],
   "source": [
    "df.head()"
   ]
  },
  {
   "cell_type": "markdown",
   "metadata": {},
   "source": [
    "When looking at the DataFrame's `.head()` and `.tail()`, you might have noticed that the games are structured chronologically in the DataFrame.\n",
    "\n",
    "Use the right selection method to display all the information from the 3rd to the 5th game (i.e. **select rows 3 through 5 inclusive**)."
   ]
  },
  {
   "cell_type": "code",
   "execution_count": null,
   "metadata": {},
   "outputs": [],
   "source": [
    "# displaying info on the 3rd all through the 5th game\n",
    "df[2:6] # we use 6 because 5 is inclusive"
   ]
  },
  {
   "cell_type": "code",
   "execution_count": null,
   "metadata": {},
   "outputs": [],
   "source": [
    "# alternatively we can use iloc\n",
    "df.iloc[2:6]"
   ]
  },
  {
   "cell_type": "markdown",
   "metadata": {},
   "source": [
    "Now, display the info from **game 5-9** (inclusive), but **only the `\"Home Team Name\"` and the `\"Away Team Name\"` columns**."
   ]
  },
  {
   "cell_type": "code",
   "execution_count": null,
   "metadata": {},
   "outputs": [],
   "source": [
    "df.iloc[[4, 5, 6, 7, 8, 9], [4, 7]]"
   ]
  },
  {
   "cell_type": "markdown",
   "metadata": {},
   "source": [
    "Next, we'd like the information on all the games played in **Group 3** for the **1950** World Cup."
   ]
  },
  {
   "cell_type": "markdown",
   "metadata": {},
   "source": [
    "Hint: You can combine conditions like this:\n",
    "\n",
    "`df[(condition1) | (condition2)]`  -> Returns rows where either condition is true\n",
    "\n",
    "`df[(condition1) & (condition2)]`  -> Returns rows where both conditions are true"
   ]
  },
  {
   "cell_type": "code",
   "execution_count": null,
   "metadata": {},
   "outputs": [],
   "source": [
    "df = df.reset_index()\n",
    "\n",
    "group3_1950 = df[(df[\"Year\"] == 1950) & (df[\"Stage\"] == \"Group 3\")]\n",
    "\n",
    "group3_1950"
   ]
  },
  {
   "cell_type": "markdown",
   "metadata": {},
   "source": [
    "Let's repeat the command above, but this time display **only the attendance column** for the Group 3 games. "
   ]
  },
  {
   "cell_type": "code",
   "execution_count": null,
   "metadata": {},
   "outputs": [],
   "source": [
    "group3_1950_attendance = df[(df[\"Year\"] == 1950) & (df[\"Stage\"] == \"Group 3\")][\"Attendance\"]\n",
    "group3_1950_attendance"
   ]
  },
  {
   "cell_type": "code",
   "execution_count": null,
   "metadata": {},
   "outputs": [],
   "source": [
    "df\n"
   ]
  },
  {
   "cell_type": "markdown",
   "metadata": {},
   "source": [
    "Throughout the entire history of the World Cup as recorded in this dataset, **how many home games were played by the Netherlands**?\n",
    "\n",
    "(Remember that you can use the `len()` built-in function to find the number of rows in a DataFrame.)"
   ]
  },
  {
   "cell_type": "code",
   "execution_count": null,
   "metadata": {},
   "outputs": [],
   "source": [
    "# fitering the rows where Netherlands played as the home team\n",
    "neth_home = df[(df[\"Home Team Name\"] == \"Netherlands\")]\n",
    "\n",
    "# finding the number of home games played\n",
    "number_of_homegames_played = len(neth_home)\n",
    "\n",
    "#displaying\n",
    "number_of_homegames_played"
   ]
  },
  {
   "cell_type": "markdown",
   "metadata": {},
   "source": [
    "**How many games were played by the Netherlands in total**?"
   ]
  },
  {
   "cell_type": "code",
   "execution_count": null,
   "metadata": {},
   "outputs": [],
   "source": [
    "# fitering the rows where Netherlands played as the home team or the away team\n",
    "neth_games = df[(df[\"Home Team Name\"] == \"Netherlands\") | (df[\"Away Team Name\"] == \"Netherlands\")]\n",
    "\n",
    "# finding the number of  games played\n",
    "number_of_games_played = len(neth_games)\n",
    "\n",
    "# displaying\n",
    "number_of_games_played\n",
    "\n"
   ]
  },
  {
   "cell_type": "markdown",
   "metadata": {},
   "source": [
    "Next, let's try and figure out **how many games the USA played in the 2014 World Cup**."
   ]
  },
  {
   "cell_type": "code",
   "execution_count": null,
   "metadata": {},
   "outputs": [],
   "source": [
    "# Filtering the rows where the year is 2014 and the USA was either the home team or the away team\n",
    "usa_2014_games = df[(df['Year'] == 2014) & ((df['Home Team Name'] == 'USA') | (df['Away Team Name'] == 'USA'))]\n",
    "\n",
    "# finding number of games the USA played in 2014\n",
    "number_of_usa_2014_games = len(usa_2014_games)\n",
    "\n",
    "# displaying\n",
    "number_of_usa_2014_games\n"
   ]
  },
  {
   "cell_type": "markdown",
   "metadata": {},
   "source": [
    "Now, let's try to find out **how many countries participated in the 1986 World Cup**."
   ]
  },
  {
   "cell_type": "markdown",
   "metadata": {},
   "source": [
    "Hint 1: As a first step, create a new dataset that only contains games in that year.\n",
    "\n",
    "Hint 2: Make sure you don't end up with duplicate country names. Consider using `set()` or `.unique()`."
   ]
  },
  {
   "cell_type": "code",
   "execution_count": null,
   "metadata": {
    "scrolled": true
   },
   "outputs": [],
   "source": [
    "# Filtering the dataset for games in the 1986 World Cup\n",
    "games_1986 = df[df['Year'] == 1986]\n",
    "\n",
    "# Extracting the unique home and away teams in the 1986 World Cup\n",
    "unique_teams_1986 = set(games_1986['Home Team Name']).union(set(games_1986['Away Team Name']))\n",
    "\n",
    "# Getting the number of unique countries that participated\n",
    "number_of_countries_1986 = len(unique_teams_1986)\n",
    "\n",
    "number_of_countries_1986"
   ]
  },
  {
   "cell_type": "markdown",
   "metadata": {},
   "source": [
    "## Changing Values and Creating New Columns"
   ]
  },
  {
   "cell_type": "markdown",
   "metadata": {},
   "source": [
    "In World Cup history, **how many matches had 5 goals or more in total**? Create a column `\"Total Goals\"` to answer this question."
   ]
  },
  {
   "cell_type": "code",
   "execution_count": null,
   "metadata": {},
   "outputs": [],
   "source": [
    "# new column Total Goals created by summing the goals of both home and away teams\n",
    "df['Total Goals'] = df['Home Team Goals'] + df['Away Team Goals']\n",
    "\n",
    "# Filtering the dataset for matches where Total Goals is 5 or more\n",
    "matches_with_5_or_more_goals = df[df['Total Goals'] >= 5]\n",
    "\n",
    "# Getting the number of such matches\n",
    "number_of_matches_with_5_or_more_goals = len(matches_with_5_or_more_goals)\n",
    "number_of_matches_with_5_or_more_goals"
   ]
  },
  {
   "cell_type": "markdown",
   "metadata": {},
   "source": [
    "Now **create a new column `\"Half-time Goals\"`** in `df` that includes both home and away values."
   ]
  },
  {
   "cell_type": "code",
   "execution_count": null,
   "metadata": {},
   "outputs": [],
   "source": [
    "# Creating a new column 'Half-time Goals' by summing the home and away half-time goals\n",
    "df['Half-time Goals'] = df['Half-time Home Goals'] + df['Half-time Away Goals']\n",
    "\n",
    "# confirming new column\n",
    "df.head()\n",
    "\n"
   ]
  },
  {
   "cell_type": "code",
   "execution_count": null,
   "metadata": {},
   "outputs": [],
   "source": [
    "# Run this cell without changes to see your new column\n",
    "df.columns"
   ]
  },
  {
   "cell_type": "markdown",
   "metadata": {},
   "source": [
    "Run the code below. You'll notice that for Korea, there are records for both North-Korea (Korea DPR) and South-Korea (Korea Republic). "
   ]
  },
  {
   "cell_type": "code",
   "execution_count": null,
   "metadata": {},
   "outputs": [],
   "source": [
    "# Run this cell without changes\n",
    "\n",
    "# Display all records containing the string 'Korea'\n",
    "df.loc[df['Home Team Name'].str.contains('Korea'), 'Home Team Name']"
   ]
  },
  {
   "cell_type": "markdown",
   "metadata": {},
   "source": [
    "Imagine that, for some reason, we simply want Korea listed as one entry, so we want to replace every \"Home Team Name\" and \"Away Team Name\" entry that contains \"Korea\" to simply \"Korea\". In the same way, we want to change the columns \"Home Team Initials\" and \"Away Team Initials\" to NSK (North & South Korea) instead of \"KOR\" and \"PRK\". "
   ]
  },
  {
   "cell_type": "code",
   "execution_count": null,
   "metadata": {},
   "outputs": [],
   "source": [
    "# Update the 'Home Team Name' and 'Home Team Initials' columns \n",
    "# Replacing Korea in Home Team Name  and  Away Team Name columns with Korea\n",
    "df['Home Team Name'] = df['Home Team Name'].replace(['South Korea', 'North Korea'], 'Korea')\n",
    "df['Away Team Name'] = df['Away Team Name'].replace(['South Korea', 'North Korea'], 'Korea')\n",
    "\n",
    "# Replacing KOR and PRK in Home Team Initials and Away Team Initials columns with NSK\n",
    "df['Home Team Initials'] = df['Home Team Initials'].replace(['KOR', 'PRK'], 'NSK')\n",
    "df['Away Team Initials'] = df['Away Team Initials'].replace(['KOR', 'PRK'], 'NSK')\n",
    "\n",
    "\n",
    "\n"
   ]
  },
  {
   "cell_type": "markdown",
   "metadata": {},
   "source": [
    "Make sure to verify your answer!"
   ]
  },
  {
   "cell_type": "code",
   "execution_count": null,
   "metadata": {},
   "outputs": [],
   "source": []
  },
  {
   "cell_type": "markdown",
   "metadata": {},
   "source": [
    "## Summary\n",
    "\n",
    "In this lab, you practiced accessing data within Pandas!"
   ]
  }
 ],
 "metadata": {
  "kernelspec": {
   "display_name": "Python [conda env:base] *",
   "language": "python",
   "name": "conda-base-py"
  },
  "language_info": {
   "codemirror_mode": {
    "name": "ipython",
    "version": 3
   },
   "file_extension": ".py",
   "mimetype": "text/x-python",
   "name": "python",
   "nbconvert_exporter": "python",
   "pygments_lexer": "ipython3",
   "version": "3.12.7"
  }
 },
 "nbformat": 4,
 "nbformat_minor": 4
}
